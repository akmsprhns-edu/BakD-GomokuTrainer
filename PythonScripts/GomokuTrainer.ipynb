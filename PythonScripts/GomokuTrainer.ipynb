{
 "metadata": {
  "language_info": {
   "codemirror_mode": {
    "name": "ipython",
    "version": 3
   },
   "file_extension": ".py",
   "mimetype": "text/x-python",
   "name": "python",
   "nbconvert_exporter": "python",
   "pygments_lexer": "ipython3",
   "version": "3.8.6-final"
  },
  "orig_nbformat": 2,
  "kernelspec": {
   "name": "python3",
   "display_name": "Python 3.8.6 64-bit",
   "metadata": {
    "interpreter": {
     "hash": "5c0372ed38b372118c24adb00d45654d76c8d10261533c5724e3f5fc1d75489a"
    }
   }
  }
 },
 "nbformat": 4,
 "nbformat_minor": 2,
 "cells": [
  {
   "cell_type": "code",
   "execution_count": 32,
   "metadata": {},
   "outputs": [],
   "source": [
    "import numpy as np\n",
    "from tensorflow import keras\n",
    "from tensorflow.keras import layers\n",
    "import onnx\n",
    "import keras2onnx\n",
    "import random\n",
    "from es import SimpleGA, OpenES\n",
    "\n",
    "import importlib\n",
    "import gomokutrainer\n",
    "\n"
   ]
  },
  {
   "cell_type": "code",
   "execution_count": 36,
   "metadata": {},
   "outputs": [
    {
     "output_type": "stream",
     "name": "stdout",
     "text": [
      "Model: \"sequential_19\"\n_________________________________________________________________\nLayer (type)                 Output Shape              Param #   \n=================================================================\nreshape_19 (Reshape)         (None, 15, 15, 2)         0         \n_________________________________________________________________\nconv2d_42 (Conv2D)           (None, 13, 13, 32)        608       \n_________________________________________________________________\nmax_pooling2d_17 (MaxPooling (None, 6, 6, 32)          0         \n_________________________________________________________________\nconv2d_43 (Conv2D)           (None, 4, 4, 32)          9248      \n_________________________________________________________________\nflatten_19 (Flatten)         (None, 512)               0         \n_________________________________________________________________\ndense_19 (Dense)             (None, 32)                16416     \n_________________________________________________________________\noutput (Dense)               (None, 1)                 33        \n=================================================================\nTotal params: 26,305\nTrainable params: 26,305\nNon-trainable params: 0\n_________________________________________________________________\n"
     ]
    }
   ],
   "source": [
    "\n",
    "importlib.reload(gomokutrainer)\n",
    "from gomokutrainer import create_model\n",
    "model = create_model()\n",
    "model.summary()"
   ]
  },
  {
   "cell_type": "code",
   "execution_count": null,
   "metadata": {},
   "outputs": [],
   "source": []
  }
 ]
}