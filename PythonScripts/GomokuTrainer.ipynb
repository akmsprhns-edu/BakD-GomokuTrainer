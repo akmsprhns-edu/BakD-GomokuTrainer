{
 "metadata": {
  "language_info": {
   "codemirror_mode": {
    "name": "ipython",
    "version": 3
   },
   "file_extension": ".py",
   "mimetype": "text/x-python",
   "name": "python",
   "nbconvert_exporter": "python",
   "pygments_lexer": "ipython3",
   "version": "3.8.8-final"
  },
  "orig_nbformat": 2,
  "kernelspec": {
   "name": "python388jvsc74a57bd05c0372ed38b372118c24adb00d45654d76c8d10261533c5724e3f5fc1d75489a",
   "display_name": "Python 3.8.8 64-bit"
  }
 },
 "nbformat": 4,
 "nbformat_minor": 2,
 "cells": [
  {
   "cell_type": "code",
   "execution_count": 28,
   "metadata": {},
   "outputs": [],
   "source": [
    "import numpy as np\n",
    "from tensorflow import keras\n",
    "from tensorflow.keras import layers\n",
    "import onnx\n",
    "import keras2onnx\n",
    "import random\n",
    "from es import SimpleGA, OpenES\n",
    "\n",
    "import importlib\n",
    "import gomokutrainer\n",
    "\n"
   ]
  },
  {
   "cell_type": "code",
   "execution_count": 29,
   "metadata": {},
   "outputs": [
    {
     "output_type": "stream",
     "name": "stdout",
     "text": [
      "Model: \"sequential_8\"\n_________________________________________________________________\nLayer (type)                 Output Shape              Param #   \n=================================================================\nreshape_8 (Reshape)          (None, 15, 15, 2)         0         \n_________________________________________________________________\nconv2d_16 (Conv2D)           (None, 13, 13, 32)        608       \n_________________________________________________________________\nleaky_re_lu_13 (LeakyReLU)   (None, 13, 13, 32)        0         \n_________________________________________________________________\nmax_pooling2d_8 (MaxPooling2 (None, 6, 6, 32)          0         \n_________________________________________________________________\nconv2d_17 (Conv2D)           (None, 4, 4, 32)          9248      \n_________________________________________________________________\nleaky_re_lu_14 (LeakyReLU)   (None, 4, 4, 32)          0         \n_________________________________________________________________\nflatten_8 (Flatten)          (None, 512)               0         \n_________________________________________________________________\ndense_8 (Dense)              (None, 32)                16416     \n_________________________________________________________________\nleaky_re_lu_15 (LeakyReLU)   (None, 32)                0         \n_________________________________________________________________\noutput (Dense)               (None, 1)                 33        \n=================================================================\nTotal params: 26,305\nTrainable params: 26,305\nNon-trainable params: 0\n_________________________________________________________________\n"
     ]
    }
   ],
   "source": [
    "\n",
    "importlib.reload(gomokutrainer)\n",
    "from gomokutrainer import create_model\n",
    "model = create_model()\n",
    "model.summary()"
   ]
  },
  {
   "cell_type": "code",
   "execution_count": 30,
   "metadata": {},
   "outputs": [
    {
     "output_type": "stream",
     "name": "stderr",
     "text": [
      "tf executing eager_mode: True\n",
      "tf.keras model eager_mode: False\n",
      "The ONNX operator number change on the optimization: 27 -> 14\n"
     ]
    }
   ],
   "source": [
    "onnx_model = keras2onnx.convert_keras(model, \"test.onnx\")\n",
    "\n",
    "onnx.save_model(onnx_model, \"test.onnx\")"
   ]
  },
  {
   "cell_type": "code",
   "execution_count": null,
   "metadata": {},
   "outputs": [],
   "source": []
  }
 ]
}