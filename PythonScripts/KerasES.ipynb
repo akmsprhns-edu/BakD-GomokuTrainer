{
 "cells": [
  {
   "cell_type": "code",
   "execution_count": null,
   "metadata": {},
   "outputs": [],
   "source": [
    "import numpy as np\n",
    "from tensorflow import keras\n",
    "from tensorflow.keras import layers\n",
    "import onnx\n",
    "import keras2onnx\n",
    "import random\n",
    "from es import SimpleGA, OpenES"
   ]
  },
  {
   "cell_type": "code",
   "execution_count": null,
   "metadata": {},
   "outputs": [],
   "source": [
    "input_shape = (15,15,2)\n",
    "input_len = input_shape[0] * input_shape[1] * input_shape[2]\n",
    "model_name_onnx = \"model4light.onnx\""
   ]
  },
  {
   "cell_type": "code",
   "execution_count": null,
   "metadata": {},
   "outputs": [],
   "source": [
    "\"\"\"\n",
    "## Build the model\n",
    "\"\"\"\n",
    "print(\"input shape=\" + str(input_shape))\n",
    "\"\"\"model = keras.Sequential(\n",
    "    [\n",
    "        keras.Input(shape=input_len, name=\"input\"),\n",
    "        layers.Reshape(input_shape),\n",
    "        layers.Conv2D(32, kernel_size=(3, 3), activation=\"relu\"),\n",
    "        layers.MaxPooling2D(pool_size=(2, 2)),\n",
    "        layers.Conv2D(64, kernel_size=(3, 3), activation=\"relu\"),\n",
    "        layers.MaxPooling2D(pool_size=(2, 2)),\n",
    "        layers.Flatten(),\n",
    "        #layers.Dropout(0.5),\n",
    "        layers.Dense(10, activation=\"relu\"),\n",
    "        layers.Dense(1, activation=\"sigmoid\", name=\"output\")\n",
    "    ]\n",
    ")\"\"\"\n",
    "\"\"\"\n",
    "model = keras.Sequential()\n",
    "model.add(layers.Dense(20, activation='sigmoid', input_shape = input_shape))\n",
    "model.add(layers.Dense(20, activation='sigmoid'))\n",
    "model.add(layers.Dense(num_classes, activation=\"softmax\"))\n",
    "\"\"\"\n",
    "\n",
    "def create_model():\n",
    "    return keras.Sequential(\n",
    "        [\n",
    "            keras.Input(shape=input_len, name=\"input\"),\n",
    "            layers.Reshape(input_shape),\n",
    "            layers.Conv2D(16, kernel_size=(5, 5), activation=\"relu\"),\n",
    "            layers.Conv2D(8, kernel_size=(3, 3), activation=\"relu\"),\n",
    "            layers.Flatten(),\n",
    "            #layers.Dropout(0.5),\n",
    "            layers.Dense(2, activation=\"relu\"),\n",
    "            layers.Dense(1, activation=\"sigmoid\", name=\"output\")\n",
    "        ]\n",
    "    )\n",
    "model = create_model()\n",
    "\n",
    "model.summary()"
   ]
  },
  {
   "cell_type": "code",
   "execution_count": null,
   "metadata": {},
   "outputs": [],
   "source": [
    "model.compile()"
   ]
  },
  {
   "cell_type": "code",
   "execution_count": null,
   "metadata": {},
   "outputs": [],
   "source": [
    "onnx_model = keras2onnx.convert_keras(model, model.name)\n",
    "\n",
    "onnx.save_model(onnx_model, model_name_onnx)"
   ]
  },
  {
   "cell_type": "code",
   "execution_count": null,
   "metadata": {},
   "outputs": [],
   "source": [
    "random.seed(1)\n",
    "field_count = 25\n",
    "random_fields = np.zeros((field_count,input_shape[0],input_shape[1],input_shape[2]), dtype=\"float32\")\n",
    "print(random_fields.shape)\n",
    "for field in range(field_count):\n",
    "    for row in range(input_shape[0]):\n",
    "        for col in range(input_shape[1]):\n",
    "            r = random.randint(0,3);\n",
    "            if(r == 0 or r == 1):\n",
    "                random_fields[field][row][col][r] = 1\n",
    "\n",
    "random_fields_flat = random_fields.reshape((field_count,input_len))\n",
    "#print(random_fields_flat.shape)\n",
    "#for field in random_fields_flat:\n",
    "#    print(field)\n",
    "\n",
    "print(model.predict(random_fields_flat,verbose=1))"
   ]
  },
  {
   "cell_type": "code",
   "execution_count": null,
   "metadata": {},
   "outputs": [],
   "source": []
  },
  {
   "cell_type": "code",
   "execution_count": null,
   "metadata": {},
   "outputs": [],
   "source": []
  },
  {
   "cell_type": "code",
   "execution_count": null,
   "metadata": {},
   "outputs": [],
   "source": []
  },
  {
   "cell_type": "code",
   "execution_count": null,
   "metadata": {},
   "outputs": [],
   "source": [
    "model_weights = model.get_weights()\n",
    "### unwrap layers weights\n",
    "layer_count = len(model_weights)\n",
    "print(\"layer count: \" + str(layer_count))\n",
    "layer_shapes = [None] * layer_count\n",
    "flat_layers = [None] * layer_count\n",
    "layer_n = 0;\n",
    "for layer in model_weights:\n",
    "    np_layer = np.array(layer)\n",
    "    layer_shapes[layer_n] = np_layer.shape\n",
    "    flat_layers[layer_n] = np_layer.reshape(-1)\n",
    "    layer_n += 1\n",
    "\n",
    "    \n",
    "print(\"layer shapes: \" + str(layer_shapes))\n",
    "print(\"layer sizes: \");\n",
    "for layer in model_weights:\n",
    "    print(layer.size)\n",
    "    \n",
    "flat_weights = np.concatenate(flat_layers)\n",
    "print(\"weight count: \" + str(len(flat_weights)))\n",
    "print(\"src weights:\")\n",
    "for i in range(20):\n",
    "    print(flat_weights[i])"
   ]
  },
  {
   "cell_type": "code",
   "execution_count": null,
   "metadata": {},
   "outputs": [],
   "source": [
    "##### manipulate layer weights\n",
    "\n",
    "for i in range(1, len(flat_weights), 1):\n",
    "    flat_weights[i] = 0\n",
    "    \n",
    "print(\"manipulated weights:\")\n",
    "for i in range(20):\n",
    "    print(flat_weights[i])\n",
    "    "
   ]
  },
  {
   "cell_type": "code",
   "execution_count": null,
   "metadata": {},
   "outputs": [],
   "source": [
    "#### wrap layer weights back\n",
    "split_indexes = [len(l) for l in flat_layers]\n",
    "print(split_indexes)\n",
    "for i in range(1, len(split_indexes)):\n",
    "    split_indexes[i] += split_indexes[i-1]\n",
    "print(split_indexes)\n",
    "flat_layers = np.split(flat_weights, split_indexes)\n",
    "flat_layers.pop()\n",
    "layer_n = 0\n",
    "for layer in flat_layers:\n",
    "    model_weights[layer_n] = layer.reshape(layer_shapes[layer_n])\n",
    "    layer_n += 1\n",
    "\n",
    "model.set_weights(model_weights)"
   ]
  },
  {
   "cell_type": "code",
   "execution_count": null,
   "metadata": {},
   "outputs": [],
   "source": [
    "NPARAMS = sum([np.array(layer).size for layer in model.get_weights()]) # make this a n-dimensinal problem.\n",
    "print(\"NPARAMS: \" + str(NPARAMS))\n",
    "NPOPULATION = 16 # population size .\n",
    "MAX_ITERATION = 40 # run each solver for n generations."
   ]
  },
  {
   "cell_type": "code",
   "execution_count": null,
   "metadata": {
    "scrolled": true
   },
   "outputs": [],
   "source": [
    "import gomokutrainer\n",
    "import importlib\n",
    "importlib.reload(gomokutrainer)\n",
    "evaluator = gomokutrainer.Evaluator(create_model, \"../EstimatorExe/OnnxEstimator.exe\")\n",
    "oes = OpenES(NPARAMS,                  # number of model parameters\n",
    "            sigma_init=0.5,            # initial standard deviation\n",
    "            sigma_decay=0.999,         # don't anneal standard deviation\n",
    "            learning_rate=0.1,         # learning rate for standard deviation\n",
    "            learning_rate_decay = 1.0, # annealing the learning rate\n",
    "            popsize=NPOPULATION,       # population size\n",
    "            antithetic=False,          # whether to use antithetic sampling\n",
    "            weight_decay=0.00,         # weight decay coefficient\n",
    "            rank_fitness=False,        # use rank rather than fitness numbers\n",
    "            forget_best=False)\n",
    "list_of_flat_weights = oes.ask()\n",
    "print(\"list of flat weights len: \" + str(len(list_of_flat_weights)))\n",
    "eval_result = evaluator.evaluate(list_of_flat_weights, \"C:\\Projects\\Testing\")\n",
    "print(\"evaluation result: \" + str(eval_result))\n",
    "\n"
   ]
  },
  {
   "cell_type": "code",
   "execution_count": null,
   "metadata": {},
   "outputs": [],
   "source": [
    "def test_solver(solver):\n",
    "    history = []\n",
    "    for j in range(MAX_ITERATION):\n",
    "        list_of_flat_weights = solver.ask()\n",
    "        eval_result = evaluator.evaluate(list_of_flat_weights, \"C:\\Projects\\Testing2\")\n",
    "        solver.tell(eval_result)\n",
    "        result = solver.result() # first element is the best solution, second element is the best fitness\n",
    "        history.append(result[1])\n",
    "    return history"
   ]
  },
  {
   "cell_type": "code",
   "execution_count": null,
   "metadata": {},
   "outputs": [],
   "source": [
    "oes = OpenES(NPARAMS,                  # number of model parameters\n",
    "            sigma_init=0.5,            # initial standard deviation\n",
    "            sigma_decay=0.999,         # don't anneal standard deviation\n",
    "            learning_rate=0.1,         # learning rate for standard deviation\n",
    "            learning_rate_decay = 1.0, # annealing the learning rate\n",
    "            popsize=NPOPULATION,       # population size\n",
    "            antithetic=False,          # whether to use antithetic sampling\n",
    "            weight_decay=0.00,         # weight decay coefficient\n",
    "            rank_fitness=True,        # use rank rather than fitness numbers\n",
    "            forget_best=True)"
   ]
  },
  {
   "cell_type": "code",
   "execution_count": null,
   "metadata": {
    "scrolled": true
   },
   "outputs": [],
   "source": [
    "oes_history = test_solver(oes)"
   ]
  },
  {
   "cell_type": "code",
   "execution_count": null,
   "metadata": {},
   "outputs": [],
   "source": []
  },
  {
   "cell_type": "code",
   "execution_count": null,
   "metadata": {},
   "outputs": [],
   "source": [
    "ga = SimpleGA(NPARAMS,                # number of model parameters\n",
    "               sigma_init=0.5,        # initial standard deviation\n",
    "               popsize=NPOPULATION,   # population size\n",
    "               elite_ratio=0.1,       # percentage of the elites\n",
    "               forget_best=False,     # forget the historical best elites\n",
    "               weight_decay=0.00,     # weight decay coefficient\n",
    "              )"
   ]
  },
  {
   "cell_type": "code",
   "execution_count": null,
   "metadata": {},
   "outputs": [],
   "source": [
    "ga_history = test_solver(ga)"
   ]
  }
 ],
 "metadata": {
  "kernelspec": {
   "display_name": "Python 3",
   "language": "python",
   "name": "python3"
  },
  "language_info": {
   "codemirror_mode": {
    "name": "ipython",
    "version": 3
   },
   "file_extension": ".py",
   "mimetype": "text/x-python",
   "name": "python",
   "nbconvert_exporter": "python",
   "pygments_lexer": "ipython3",
   "version": "3.8.6"
  }
 },
 "nbformat": 4,
 "nbformat_minor": 4
}