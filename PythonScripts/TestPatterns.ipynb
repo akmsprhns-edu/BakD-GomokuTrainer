{
 "cells": [
  {
   "cell_type": "code",
   "execution_count": 3,
   "metadata": {},
   "outputs": [],
   "source": [
    "import numpy as np"
   ]
  },
  {
   "cell_type": "code",
   "execution_count": 4,
   "metadata": {},
   "outputs": [
    {
     "output_type": "stream",
     "name": "stdout",
     "text": [
      "15\n###\ndata_np shape: (4, 3)\ndata_np_reshaped: [[[ 0]\n  [ 1]\n  [ 2]]\n\n [[ 3]\n  [ 4]\n  [ 5]]\n\n [[ 6]\n  [ 7]\n  [ 8]]\n\n [[ 9]\n  [10]\n  [11]]]\ndata_flat: [ 0  1  2  3  4  5  6  7  8  9 10 11]\ndata_flat: [ 0  1  2  3  4  5  6  7  8  9 10 11 12 13 14 15 16 17 18 19 20 21 22 23]\ndata_3d:\n:[[[ 0  1]\n  [ 2  3]\n  [ 4  5]]\n\n [[ 6  7]\n  [ 8  9]\n  [10 11]]\n\n [[12 13]\n  [14 15]\n  [16 17]]\n\n [[18 19]\n  [20 21]\n  [22 23]]]\n---\n[[0 1]\n [2 3]\n [4 5]]\n[0 1]\n"
     ]
    }
   ],
   "source": [
    "data = [\n",
    "    [0,1,2],\n",
    "    [3,4,5],\n",
    "    [6,7,8],\n",
    "    [9,10,11]\n",
    "]\n",
    "rows = 3\n",
    "cols = 3\n",
    "depth = 2\n",
    "r = 2\n",
    "c = 1\n",
    "d = 1\n",
    "print(d + (c + r * cols) * depth)\n",
    "print(\"###\")\n",
    "data_np = np.array(data)\n",
    "print(\"data_np shape: \" + str(data_np.shape))\n",
    "data_np_reshaped = data_np.reshape((4,3,1))\n",
    "print(\"data_np_reshaped: \" + str(data_np_reshaped))\n",
    "data_flat = data_np.reshape(-1)\n",
    "print(\"data_flat: \" + str(data_flat))\n",
    "data_flat = np.concatenate((data_flat, [12, 13, 14, 15, 16, 17, 18, 19, 20, 21, 22, 23]))\n",
    "print(\"data_flat: \" + str(data_flat))\n",
    "data_3d = data_flat.reshape((4,3,2))\n",
    "print(\"data_3d:\\n:\" + str(data_3d))\n",
    "print(\"---\")\n",
    "print(data_3d[0])\n",
    "print(data_3d[0][0])"
   ]
  },
  {
   "cell_type": "code",
   "execution_count": 9,
   "metadata": {},
   "outputs": [
    {
     "output_type": "stream",
     "name": "stdout",
     "text": [
      "15\n###\ndata_np shape: (1, 4, 3)\ndata_flat: [ 0  1  2  3  4  5  6  7  8  9 10 11]\ndata_flat: [ 0  1  2  3  4  5  6  7  8  9 10 11 12 13 14 15 16 17 18 19 20 21 22 23]\ndata_reshaped:\n:[[[ 0  1  2]\n  [ 3  4  5]\n  [ 6  7  8]\n  [ 9 10 11]]\n\n [[12 13 14]\n  [15 16 17]\n  [18 19 20]\n  [21 22 23]]]\n"
     ]
    }
   ],
   "source": [
    "data = [[\n",
    "    [0,1,2],\n",
    "    [3,4,5],\n",
    "    [6,7,8],\n",
    "    [9,10,11]\n",
    "]]\n",
    "rows = 3\n",
    "cols = 3\n",
    "depth = 2\n",
    "r = 2\n",
    "c = 1\n",
    "d = 1\n",
    "print(d + (c + r * cols) * depth)\n",
    "print(\"###\")\n",
    "data_np = np.array(data)\n",
    "print(\"data_np shape: \" + str(data_np.shape))\n",
    "data_flat = data_np.reshape(-1)\n",
    "print(\"data_flat: \" + str(data_flat))\n",
    "data_flat = np.concatenate((data_flat, [12, 13, 14, 15, 16, 17, 18, 19, 20, 21, 22, 23]))\n",
    "print(\"data_flat: \" + str(data_flat))\n",
    "data_reshaped = data_flat.reshape((2,4,3))\n",
    "print(\"data_reshaped:\\n:\" + str(data_reshaped))"
   ]
  },
  {
   "cell_type": "code",
   "execution_count": null,
   "metadata": {},
   "outputs": [],
   "source": []
  }
 ],
 "metadata": {
  "kernelspec": {
   "display_name": "Python 3",
   "language": "python",
   "name": "python3"
  },
  "language_info": {
   "codemirror_mode": {
    "name": "ipython",
    "version": 3
   },
   "file_extension": ".py",
   "mimetype": "text/x-python",
   "name": "python",
   "nbconvert_exporter": "python",
   "pygments_lexer": "ipython3",
   "version": "3.8.8-final"
  }
 },
 "nbformat": 4,
 "nbformat_minor": 4
}