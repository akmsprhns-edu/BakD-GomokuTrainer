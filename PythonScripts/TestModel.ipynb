{
 "metadata": {
  "language_info": {
   "codemirror_mode": {
    "name": "ipython",
    "version": 3
   },
   "file_extension": ".py",
   "mimetype": "text/x-python",
   "name": "python",
   "nbconvert_exporter": "python",
   "pygments_lexer": "ipython3",
   "version": "3.8.8-final"
  },
  "orig_nbformat": 2,
  "kernelspec": {
   "name": "python388jvsc74a57bd05c0372ed38b372118c24adb00d45654d76c8d10261533c5724e3f5fc1d75489a",
   "display_name": "Python 3.8.8 64-bit"
  }
 },
 "nbformat": 4,
 "nbformat_minor": 2,
 "cells": [
  {
   "cell_type": "code",
   "execution_count": 50,
   "metadata": {},
   "outputs": [],
   "source": [
    "from typing import Callable, List\n",
    "import numpy as np\n",
    "from numpy import random\n",
    "import json\n",
    "import subprocess\n",
    "import sys\n",
    "import pickle\n",
    "from pathlib import Path\n",
    "from os import path, _exit\n",
    "from tensorflow import keras\n",
    "from tensorflow.keras import layers\n",
    "import onnx\n",
    "import keras2onnx\n",
    "from tensorflow.python.keras.engine.sequential import Sequential\n",
    "from tensorflow.python.keras.layers.advanced_activations import LeakyReLU\n",
    "from es import OpenES\n",
    "from shutil import rmtree\n",
    "import time\n",
    "from gomokutrainer import Evaluator, create_model, get_param_count"
   ]
  },
  {
   "cell_type": "code",
   "execution_count": 51,
   "metadata": {},
   "outputs": [],
   "source": [
    "input_shape = (15,15,2)\n",
    "input_len = input_shape[0] * input_shape[1] * input_shape[2]\n",
    "def create_custom_model():\n",
    "    return keras.Sequential(\n",
    "        [\n",
    "            keras.Input(shape=input_len, name=\"input\"),\n",
    "            layers.Reshape(input_shape),\n",
    "            layers.Conv2D(32, kernel_size=(3, 3), kernel_initializer=keras.initializers.HeNormal()),\n",
    "            layers.LeakyReLU(alpha=0.2),\n",
    "            layers.MaxPooling2D((2, 2)),\n",
    "            layers.Conv2D(32, kernel_size=(3, 3), kernel_initializer=keras.initializers.HeNormal()),\n",
    "            layers.LeakyReLU(alpha=0.2),\n",
    "            layers.Flatten(),\n",
    "            layers.Dense(32, kernel_initializer=keras.initializers.HeNormal()),\n",
    "            layers.LeakyReLU(alpha=0.2),\n",
    "            layers.Dense(1, name=\"output\")\n",
    "        ]\n",
    "    )\n",
    "create_model_function = create_custom_model"
   ]
  },
  {
   "cell_type": "code",
   "execution_count": 52,
   "metadata": {},
   "outputs": [],
   "source": [
    "NPARAMS = sum([np.array(layer).size for layer in create_model().get_weights()])\n",
    "solver = OpenES(get_param_count(),              # number of model parameters\n",
    "                sigma_init=0.1,            # initial standard deviation\n",
    "                sigma_decay=0.9995,         # don't anneal standard deviation\n",
    "                sigma_limit=0.01,\n",
    "                learning_rate=0.01,        # learning rate for standard deviation\n",
    "                learning_rate_decay = 0.999, # annealing the learning rate\n",
    "                learning_rate_limit = 0.0005,\n",
    "                popsize=1,       # population size\n",
    "                antithetic=False,          # whether to use antithetic sampling\n",
    "                weight_decay=0.00,         # weight decay coefficient\n",
    "                rank_fitness=True,         # use rank rather than fitness numbers\n",
    "                forget_best=True)"
   ]
  },
  {
   "cell_type": "code",
   "execution_count": 53,
   "metadata": {
    "tags": []
   },
   "outputs": [],
   "source": [
    "list_of_flat_weights = solver.ask()\n",
    "evaluator = Evaluator(create_model_function, \"\")\n",
    "weights = evaluator.wrap_weights(list_of_flat_weights[0])"
   ]
  },
  {
   "cell_type": "code",
   "execution_count": 54,
   "metadata": {},
   "outputs": [],
   "source": [
    "model = create_model_function()\n"
   ]
  },
  {
   "cell_type": "code",
   "execution_count": 55,
   "metadata": {},
   "outputs": [],
   "source": [
    "model.set_weights(weights)"
   ]
  },
  {
   "cell_type": "code",
   "execution_count": 56,
   "metadata": {},
   "outputs": [
    {
     "output_type": "stream",
     "name": "stdout",
     "text": [
      "(None, 450)\n[[0.83389354 0.6160088  0.6465018  ... 0.73201764 0.32026765 0.10031243]\n [0.0525916  0.04148839 0.12899868 ... 0.27170902 0.0797263  0.02913417]\n [0.37547097 0.34349748 0.8275108  ... 0.08299976 0.47801086 0.55089444]\n ...\n [0.382114   0.69373524 0.12343797 ... 0.4196698  0.17195965 0.53858334]\n [0.70352787 0.84197146 0.07894789 ... 0.13899617 0.5148081  0.5298883 ]\n [0.81268966 0.47035292 0.73294693 ... 0.73311883 0.22178224 0.04397286]]\n"
     ]
    }
   ],
   "source": [
    "input_shape = model.layers[0].input_shape\n",
    "print(input_shape)\n",
    "data = random.rand(10000,input_shape[1]).astype(np.single)\n",
    "print(data)"
   ]
  },
  {
   "cell_type": "code",
   "execution_count": 57,
   "metadata": {},
   "outputs": [
    {
     "output_type": "stream",
     "name": "stdout",
     "text": [
      "max value:  [0.6145785]\nmax sigmoid value:  [0.6489845]\nmin value:  [-0.02984944]\nmin sigmoid value:  [0.49253818]\n"
     ]
    }
   ],
   "source": [
    "predictions = model.predict(data)\n",
    "predictions_sigmoid = keras.activations.sigmoid(predictions).numpy()\n",
    "#print(predicitons)\n",
    "#print()\n",
    "print(\"max value: \",max(predictions))\n",
    "print(\"max sigmoid value: \", max(predictions_sigmoid))\n",
    "print(\"min value: \",min(predictions))\n",
    "print(\"min sigmoid value: \", min(predictions_sigmoid))"
   ]
  },
  {
   "cell_type": "code",
   "execution_count": null,
   "metadata": {},
   "outputs": [],
   "source": []
  }
 ]
}