{
 "metadata": {
  "language_info": {
   "codemirror_mode": {
    "name": "ipython",
    "version": 3
   },
   "file_extension": ".py",
   "mimetype": "text/x-python",
   "name": "python",
   "nbconvert_exporter": "python",
   "pygments_lexer": "ipython3",
   "version": "3.8.6-final"
  },
  "orig_nbformat": 2,
  "kernelspec": {
   "name": "python3",
   "display_name": "Python 3.8.6 64-bit",
   "metadata": {
    "interpreter": {
     "hash": "5c0372ed38b372118c24adb00d45654d76c8d10261533c5724e3f5fc1d75489a"
    }
   }
  }
 },
 "nbformat": 4,
 "nbformat_minor": 2,
 "cells": [
  {
   "cell_type": "code",
   "execution_count": 1,
   "metadata": {},
   "outputs": [],
   "source": [
    "import numpy as np\n",
    "from tensorflow import keras\n",
    "from tensorflow.keras import layers\n",
    "import onnx\n",
    "import keras2onnx\n",
    "import random"
   ]
  },
  {
   "cell_type": "code",
   "execution_count": 20,
   "metadata": {
    "tags": []
   },
   "outputs": [
    {
     "output_type": "stream",
     "name": "stdout",
     "text": [
      "weights shape: (3, 3, 16, 8)\nlayer weights: [[[  0.21543993   1.3320763    3.3177738   -5.6489778    1.097671\n     4.7809      -7.675328     8.824021    -3.2734275    5.217471\n     8.188092     9.910069    11.952826     1.2812833   -3.182183\n    -1.194762  ]\n  [  5.942341    -0.5333355  -13.278228    -1.4313048    4.8209467\n     9.7292385    4.8531885   -0.96169966   3.3411355  -10.396812\n     1.7291665   -5.783569     5.9890957    6.922779     6.8765097\n     1.7575852 ]\n  [  1.084215    -7.7024975    3.1306012   -0.10588618  -3.2512164\n    -2.0142825   -3.4954207   11.737307    -0.66786784  -3.9246726\n    -5.9381495   -0.3907639   -1.0279874    6.7398405  -11.72243\n    -1.685495  ]]\n\n [[ -7.290063    -4.406082   -11.194907     2.9613779    0.3541015\n     5.5491858    5.100735     5.6758566   -5.107459     0.31505117\n    -3.0732248   -3.25398     -1.6944984   -8.751584     6.740488\n     3.1281593 ]\n  [  3.0102715   -1.3703555    3.9336936    3.2753563   -0.6954033\n    -3.408074    -2.6889255    0.4292419   -4.003635    -7.6858373\n    -6.671775     8.506299    14.963301    -4.323289    -2.5171914\n   -10.777498  ]\n  [ -5.387454    -5.996262    -1.942374    -2.663077     5.9090705\n    -3.793595   -10.562413     4.9374375    0.76656425  -0.1690722\n    -5.7176566    8.20673      3.211932     6.185768    -9.034145\n    -1.7985116 ]]\n\n [[ -1.6217258   12.19779     -2.0261602    3.7244866   -5.3110013\n     4.536582    -4.8789716   -1.693737     3.9544303    7.188645\n     0.77643114   4.870733   -10.505275     2.5263577    5.759768\n     4.533891  ]\n  [-10.910824     6.0743637    0.9741243    8.452704     5.6238794\n     9.377542    -7.2975817   -0.9079384    4.467349    -0.12935439\n    -8.420072     2.4385893   13.085564    -4.559256    -4.648949\n     5.1762333 ]\n  [  7.6535187   12.331797     0.29836723   3.3031626    6.207523\n     1.1830109   -6.126913    -2.9731114    4.796772    -3.4682894\n    -5.8464994  -13.022451     3.4643896   -2.1080015    1.8683856\n    -9.058587  ]]]\nlayer biases:[ 9.695468  -4.454638   3.2553244  1.7878535  2.5099661 -3.4228382\n -1.4448725 10.5201645]\n"
     ]
    }
   ],
   "source": [
    "model = keras.models.load_model(\"C:\\Projects\\GomokuTrainer\\Output\\iteration02109\\model-1\")\n",
    "layer = model.layers[2]\n",
    "print(\"weights shape: \" + str(np.array(layer.get_weights()[0]).shape))\n",
    "layer_weights = np.array(layer.get_weights()[0])[:,:,:,1]\n",
    "layer_biases = layer.get_weights()[1]\n",
    "np.set_printoptions(suppress=True)\n",
    "\n",
    "print(\"layer weights: \" + str(layer_weights))\n",
    "print(\"layer biases:\" + str(layer_biases))\n",
    "    "
   ]
  },
  {
   "cell_type": "code",
   "execution_count": null,
   "metadata": {},
   "outputs": [],
   "source": []
  }
 ]
}