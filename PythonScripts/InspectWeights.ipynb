{
 "metadata": {
  "language_info": {
   "codemirror_mode": {
    "name": "ipython",
    "version": 3
   },
   "file_extension": ".py",
   "mimetype": "text/x-python",
   "name": "python",
   "nbconvert_exporter": "python",
   "pygments_lexer": "ipython3",
   "version": "3.8.8-final"
  },
  "orig_nbformat": 2,
  "kernelspec": {
   "name": "python388jvsc74a57bd05c0372ed38b372118c24adb00d45654d76c8d10261533c5724e3f5fc1d75489a",
   "display_name": "Python 3.8.8 64-bit"
  }
 },
 "nbformat": 4,
 "nbformat_minor": 2,
 "cells": [
  {
   "cell_type": "code",
   "execution_count": null,
   "metadata": {},
   "outputs": [],
   "source": [
    "import numpy as np\n",
    "from tensorflow import keras\n",
    "from tensorflow.keras import layers\n",
    "import onnx\n",
    "import keras2onnx\n",
    "import random"
   ]
  },
  {
   "cell_type": "code",
   "execution_count": null,
   "metadata": {
    "tags": []
   },
   "outputs": [],
   "source": [
    "model = keras.models.load_model(\"C:\\Projects\\GomokuTrainer\\Output\\iteration00100\\keras-model-1\")\n",
    "layer = model.layers[7]\n",
    "print(\"weights shape: \" + str(np.array(layer.get_weights()[0]).shape))\n",
    "layer_weights = np.array(layer.get_weights()[0])\n",
    "layer_biases = layer.get_weights()[1]\n",
    "np.set_printoptions(suppress=True)\n",
    "\n",
    "print(\"layer weights: \" + str(layer_weights))\n",
    "print(\"layer biases:\" + str(layer_biases))\n",
    "    "
   ]
  },
  {
   "cell_type": "code",
   "execution_count": null,
   "metadata": {},
   "outputs": [],
   "source": []
  }
 ]
}