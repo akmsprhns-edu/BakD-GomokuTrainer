{
 "metadata": {
  "language_info": {
   "codemirror_mode": {
    "name": "ipython",
    "version": 3
   },
   "file_extension": ".py",
   "mimetype": "text/x-python",
   "name": "python",
   "nbconvert_exporter": "python",
   "pygments_lexer": "ipython3",
   "version": "3.8.8-final"
  },
  "orig_nbformat": 2,
  "kernelspec": {
   "name": "python388jvsc74a57bd05c0372ed38b372118c24adb00d45654d76c8d10261533c5724e3f5fc1d75489a",
   "display_name": "Python 3.8.8 64-bit"
  }
 },
 "nbformat": 4,
 "nbformat_minor": 2,
 "cells": [
  {
   "cell_type": "code",
   "execution_count": 2,
   "metadata": {},
   "outputs": [],
   "source": [
    "import numpy as np\n",
    "from tensorflow import keras\n",
    "from tensorflow.keras import layers\n",
    "import onnx\n",
    "import keras2onnx\n",
    "import random"
   ]
  },
  {
   "cell_type": "code",
   "execution_count": 8,
   "metadata": {
    "tags": []
   },
   "outputs": [
    {
     "output_type": "stream",
     "name": "stdout",
     "text": [
      "weights shape: (512, 32)\nlayer weights: [[ 1.024771   -1.8626108  -0.8389369  ... -2.6693938  -1.1323781\n   1.262509  ]\n [-3.0311925  -7.0641637  -9.005545   ...  6.534459   -4.152115\n   5.3798995 ]\n [ 4.1086245  -1.8616444  -4.215007   ... -1.9599521   1.9262028\n  -4.7814884 ]\n ...\n [-6.6851954   0.09206043 10.002662   ...  2.1934865   3.805691\n   3.0304298 ]\n [ 1.6811663   0.24650298  5.461534   ... -4.232646   -0.8127245\n   5.477835  ]\n [-4.4326124   0.33406228  1.1166872  ...  7.1673384   3.8187752\n   0.81480944]]\nlayer biases:[ -0.22541325   6.6713767   -8.574561     3.8392687    3.2814329\n   6.208449    -1.442684    -1.3556334    3.054145    -2.4832745\n   4.9596353   -0.0410979    5.34699     -5.7819595   -6.4424686\n   4.252729    -0.88434523  -4.137226    -1.8203403   -4.206714\n   0.94697237   4.9481125   -0.8635928   -5.9881716  -11.543488\n  -7.015452    -1.9860694    1.8349664    9.36707      4.023796\n  -7.088618     2.9477363 ]\n"
     ]
    }
   ],
   "source": [
    "model = keras.models.load_model(\"C:\\Projects\\GomokuTrainer\\Output\\iteration00100\\keras-model-1\")\n",
    "layer = model.layers[7]\n",
    "print(\"weights shape: \" + str(np.array(layer.get_weights()[0]).shape))\n",
    "layer_weights = np.array(layer.get_weights()[0])\n",
    "layer_biases = layer.get_weights()[1]\n",
    "np.set_printoptions(suppress=True)\n",
    "\n",
    "print(\"layer weights: \" + str(layer_weights))\n",
    "print(\"layer biases:\" + str(layer_biases))\n",
    "    "
   ]
  },
  {
   "cell_type": "code",
   "execution_count": null,
   "metadata": {},
   "outputs": [],
   "source": []
  }
 ]
}