{
 "cells": [
  {
   "cell_type": "code",
   "execution_count": null,
   "metadata": {},
   "outputs": [],
   "source": [
    "import numpy as np"
   ]
  },
  {
   "cell_type": "code",
   "execution_count": 1,
   "metadata": {},
   "outputs": [],
   "source": [
    "BOARD_SIZE = 15\n",
    "PLAYER_COUNT = 2\n",
    "def index(row , column):\n",
    "    return (column + row * BOARD_SIZE) * PLAYER_COUNT;\n",
    "        "
   ]
  },
  {
   "cell_type": "code",
   "execution_count": 12,
   "metadata": {},
   "outputs": [
    {
     "name": "stdout",
     "output_type": "stream",
     "text": [
      "horizontal:[0, 2, 4, 6, 8]\n",
      "vertical:[0, 30, 60, 90, 120]\n",
      "diagonal_1:[0, 32, 64, 96, 128]\n",
      "diagonal_2:[8, 36, 64, 92, 120]\n"
     ]
    }
   ],
   "source": [
    "horizontal = [index(0,i) for i in range(5)]\n",
    "print(\"horizontal:\" + str(horizontal))\n",
    "vertical = [index(i,0) for i in range(5)]\n",
    "print(\"vertical:\" + str(vertical))\n",
    "diagonal_1 = [index(i,i) for i in range(5)]\n",
    "print(\"diagonal_1:\" + str(diagonal_1))\n",
    "diagonal_2 = [index(i,4-i) for i in range(5)]\n",
    "print(\"diagonal_2:\" + str(diagonal_2))"
   ]
  },
  {
   "cell_type": "code",
   "execution_count": null,
   "metadata": {},
   "outputs": [],
   "source": []
  }
 ],
 "metadata": {
  "kernelspec": {
   "display_name": "Python 3",
   "language": "python",
   "name": "python3"
  },
  "language_info": {
   "codemirror_mode": {
    "name": "ipython",
    "version": 3
   },
   "file_extension": ".py",
   "mimetype": "text/x-python",
   "name": "python",
   "nbconvert_exporter": "python",
   "pygments_lexer": "ipython3",
   "version": "3.8.6"
  }
 },
 "nbformat": 4,
 "nbformat_minor": 4
}
