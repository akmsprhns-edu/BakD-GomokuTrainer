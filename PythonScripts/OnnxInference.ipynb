{
 "metadata": {
  "language_info": {
   "codemirror_mode": {
    "name": "ipython",
    "version": 3
   },
   "file_extension": ".py",
   "mimetype": "text/x-python",
   "name": "python",
   "nbconvert_exporter": "python",
   "pygments_lexer": "ipython3",
   "version": "3.8.8-final"
  },
  "orig_nbformat": 2,
  "kernelspec": {
   "name": "python388jvsc74a57bd05c0372ed38b372118c24adb00d45654d76c8d10261533c5724e3f5fc1d75489a",
   "display_name": "Python 3.8.8 64-bit"
  }
 },
 "nbformat": 4,
 "nbformat_minor": 2,
 "cells": [
  {
   "cell_type": "code",
   "execution_count": null,
   "metadata": {},
   "outputs": [],
   "source": [
    "import numpy as np\n",
    "from tensorflow import keras\n",
    "from tensorflow.keras import layers\n",
    "import onnx\n",
    "import keras2onnx\n",
    "from numpy import random\n",
    "import onnxruntime\n",
    "import time"
   ]
  },
  {
   "cell_type": "code",
   "execution_count": null,
   "metadata": {},
   "outputs": [],
   "source": [
    "input_shape = (450,)\n",
    "model_name_onnx = \"model.1.onnx\""
   ]
  },
  {
   "cell_type": "code",
   "execution_count": null,
   "metadata": {},
   "outputs": [],
   "source": [
    ":\n",
    "    return keras.Sequential(\n",
    "        [\n",
    "            keras.Input(shape=input_shape, name=\"input\"),\n",
    "            layers.Conv2D(16, kernel_size=(5, 5), activation=\"relu\"),\n",
    "            layers.Conv2D(8, kernel_size=(3, 3), activation=\"relu\"),\n",
    "            layers.Flatten(),\n",
    "            #layers.Dropout(0.5),\n",
    "            layers.Dense(2, activation=\"relu\"),\n",
    "            layers.Dense(1, activation=\"sigmoid\", name=\"output\")\n",
    "        ]\n",
    "    )\n",
    "model = create_model()\n",
    "\n",
    "model.summary()"
   ]
  },
  {
   "cell_type": "code",
   "execution_count": null,
   "metadata": {},
   "outputs": [],
   "source": [
    "onnx_model = keras2onnx.convert_keras(model, model.name)\n",
    "\n",
    "onnx.save_model(onnx_model, model_name_onnx)"
   ]
  },
  {
   "cell_type": "code",
   "execution_count": null,
   "metadata": {},
   "outputs": [],
   "source": [
    "session = onnxruntime.InferenceSession(model_name_onnx)  "
   ]
  },
  {
   "cell_type": "code",
   "execution_count": null,
   "metadata": {},
   "outputs": [],
   "source": [
    "data = random.rand(100000,input_shape[0]).astype(np.single)\n",
    "print(data)\n",
    "print(type(data[0]))"
   ]
  },
  {
   "cell_type": "code",
   "execution_count": null,
   "metadata": {
    "tags": []
   },
   "outputs": [],
   "source": [
    "print(\"starting inference\")\n",
    "start = time.time()\n",
    "for i in range(100):\n",
    "    prediction = session.run(None, {\"input\": data} )\n",
    "duration = time.time() - start\n",
    "print(f\"inference ended in {duration} seconds\")"
   ]
  },
  {
   "cell_type": "code",
   "execution_count": null,
   "metadata": {},
   "outputs": [],
   "source": []
  }
 ]
}